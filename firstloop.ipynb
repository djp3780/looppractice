{
 "cells": [
  {
   "cell_type": "code",
   "execution_count": 3,
   "metadata": {},
   "outputs": [
    {
     "name": "stdout",
     "output_type": "stream",
     "text": [
      "[1505, 1540, 1575, 1610, 1645, 1680, 1715, 1750, 1785, 1820, 1855, 1890, 1925, 1960, 1995, 2030, 2065, 2100, 2135, 2170, 2205, 2240, 2275, 2310, 2345, 2380, 2415, 2450, 2485, 2520, 2555, 2590, 2625, 2660, 2695]\n"
     ]
    }
   ],
   "source": [
    "l=[]\n",
    "for i in range(1500,2700):\n",
    "    if  i%7==0and i%5==0:\n",
    "        l.append(i)\n",
    "print(l)        \n",
    "        "
   ]
  },
  {
   "cell_type": "code",
   "execution_count": 9,
   "metadata": {},
   "outputs": [
    {
     "name": "stdout",
     "output_type": "stream",
     "text": [
      "7\n"
     ]
    }
   ],
   "source": [
    "f=int(input(\"enter the fahrenite value:\"))\n",
    "c=((f-32)/9)*5\n",
    "print(int(c))\n"
   ]
  },
  {
   "cell_type": "code",
   "execution_count": 12,
   "metadata": {},
   "outputs": [
    {
     "name": "stdout",
     "output_type": "stream",
     "text": [
      "show the even number := 4\n",
      "show the even number := 5\n"
     ]
    }
   ],
   "source": [
    "# Write a Python program to count the number of even and odd numbers in a series of numbers\n",
    "\n",
    "count=0\n",
    "odd=0\n",
    "numbers = (1, 2, 3, 4, 5, 6, 7, 8, 9)\n",
    "for i in numbers:\n",
    "    if i%2==0:\n",
    "        count+=1\n",
    "    else:\n",
    "        odd+=1\n",
    "print(\"show the even number :=\",count)\n",
    "print(\"show the even number :=\",odd)\n",
    "\n",
    "\n",
    "        "
   ]
  },
  {
   "cell_type": "code",
   "execution_count": 21,
   "metadata": {},
   "outputs": [
    {
     "name": "stdout",
     "output_type": "stream",
     "text": [
      "<class 'list'>\n",
      "1452 <class 'int'>\n",
      "11.23 <class 'float'>\n",
      "(1+2j) <class 'complex'>\n",
      "True <class 'bool'>\n",
      "w3resource <class 'str'>\n",
      "(0, -1) <class 'tuple'>\n",
      "[5, 12] <class 'list'>\n",
      "{'class': 'V', 'section': 'A'} <class 'dict'>\n"
     ]
    }
   ],
   "source": [
    "# Write a Python program that prints each item and its corresponding type from the following list\n",
    "\n",
    "datalist = [1452, 11.23, 1+2j, True, 'w3resource', (0, -1), [5, 12], {\"class\":'V', \"section\":'A'}]\n",
    "print(type(datalist))\n",
    "for i in datalist:\n",
    "    print(i,type(i))\n",
    "        "
   ]
  },
  {
   "cell_type": "code",
   "execution_count": 63,
   "metadata": {},
   "outputs": [
    {
     "name": "stdout",
     "output_type": "stream",
     "text": [
      "1 2 3 4 6 7 9 \n"
     ]
    }
   ],
   "source": [
    "\n",
    "#  Write a Python program that prints all the numbers from 0 to 6 except 3 and 6.\n",
    "# Note : Use 'break' statement.\n",
    "# Expected Output : 0 1 2 4 5\n",
    "x=(1,2,3,4,6,7,9,10,12,13,14)\n",
    "for i in x:\n",
    "    if i==10:\n",
    "        break\n",
    "    print(i,end=\" \")\n",
    "print( )\n"
   ]
  },
  {
   "cell_type": "code",
   "execution_count": 77,
   "metadata": {},
   "outputs": [
    {
     "name": "stdout",
     "output_type": "stream",
     "text": [
      "1\n",
      "3\n",
      "6\n"
     ]
    }
   ],
   "source": [
    "#  Write a Python program that prints all the numbers from\n",
    "x=(1,2,3,4,6,7,9,10,12,13,14)\n",
    "count=0\n",
    "for i in x:\n",
    "    if i==4:\n",
    "        break\n",
    "    else:\n",
    "        count=count+i\n",
    "        print(count)"
   ]
  },
  {
   "cell_type": "code",
   "execution_count": 82,
   "metadata": {},
   "outputs": [
    {
     "name": "stdout",
     "output_type": "stream",
     "text": [
      "0\n"
     ]
    }
   ],
   "source": []
  }
 ],
 "metadata": {
  "kernelspec": {
   "display_name": "Python 3",
   "language": "python",
   "name": "python3"
  },
  "language_info": {
   "codemirror_mode": {
    "name": "ipython",
    "version": 3
   },
   "file_extension": ".py",
   "mimetype": "text/x-python",
   "name": "python",
   "nbconvert_exporter": "python",
   "pygments_lexer": "ipython3",
   "version": "3.11.2"
  },
  "orig_nbformat": 4
 },
 "nbformat": 4,
 "nbformat_minor": 2
}
