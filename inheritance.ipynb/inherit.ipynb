{
 "cells": [
  {
   "cell_type": "code",
   "execution_count": 1,
   "metadata": {},
   "outputs": [],
   "source": [
    "# when inside a class one class inherit to another class that is called inheritance\n",
    "#inheritance are three type\n",
    "# 1.single inheritance\n",
    "# 2. mulitple inheritance\n",
    "# 3. multilevel inheritance\n"
   ]
  },
  {
   "cell_type": "code",
   "execution_count": 40,
   "metadata": {},
   "outputs": [],
   "source": [
    "# single inheritance\n",
    "class car:\n",
    "    def __init__(self):   # methods\n",
    "        # instance or variabel\n",
    "        self.model=2013\n",
    "        self.name=\"your car name is alto 800\"\n",
    "        self.fuel_type=\"your car have only petrol type\"\n",
    "        self.price=150000\n",
    "    def owner_details(self):\n",
    "        self.name=\"ankush\"\n",
    "        self.last=\"kumar\"\n",
    "        self.mobile_number=8077382269\n",
    "        \n",
    "class maruti(car):                      # single level inheritance methods\n",
    "    def taxi(self):\n",
    "        print(\"hello world\")"
   ]
  },
  {
   "cell_type": "code",
   "execution_count": 41,
   "metadata": {},
   "outputs": [
    {
     "name": "stdout",
     "output_type": "stream",
     "text": [
      "hello world\n"
     ]
    }
   ],
   "source": [
    "obj=maruti()\n",
    "obj.owner_details()\n",
    "obj.taxi()"
   ]
  },
  {
   "cell_type": "code",
   "execution_count": 43,
   "metadata": {},
   "outputs": [
    {
     "data": {
      "text/plain": [
       "'your car have only petrol type'"
      ]
     },
     "execution_count": 43,
     "metadata": {},
     "output_type": "execute_result"
    }
   ],
   "source": [
    "obj.fuel_type"
   ]
  },
  {
   "cell_type": "code",
   "execution_count": 44,
   "metadata": {},
   "outputs": [
    {
     "data": {
      "text/plain": [
       "2013"
      ]
     },
     "execution_count": 44,
     "metadata": {},
     "output_type": "execute_result"
    }
   ],
   "source": [
    "obj.model"
   ]
  },
  {
   "cell_type": "code",
   "execution_count": 45,
   "metadata": {},
   "outputs": [
    {
     "data": {
      "text/plain": [
       "8077382269"
      ]
     },
     "execution_count": 45,
     "metadata": {},
     "output_type": "execute_result"
    }
   ],
   "source": [
    "obj.mobile_number"
   ]
  },
  {
   "cell_type": "code",
   "execution_count": 46,
   "metadata": {},
   "outputs": [
    {
     "data": {
      "text/plain": [
       "'ankush'"
      ]
     },
     "execution_count": 46,
     "metadata": {},
     "output_type": "execute_result"
    }
   ],
   "source": [
    "obj.name"
   ]
  },
  {
   "cell_type": "code",
   "execution_count": 47,
   "metadata": {},
   "outputs": [
    {
     "data": {
      "text/plain": [
       "'your car have only petrol type'"
      ]
     },
     "execution_count": 47,
     "metadata": {},
     "output_type": "execute_result"
    }
   ],
   "source": [
    "obj.fuel_type"
   ]
  },
  {
   "cell_type": "code",
   "execution_count": 48,
   "metadata": {},
   "outputs": [
    {
     "data": {
      "text/plain": [
       "150000"
      ]
     },
     "execution_count": 48,
     "metadata": {},
     "output_type": "execute_result"
    }
   ],
   "source": [
    "obj.price"
   ]
  },
  {
   "cell_type": "code",
   "execution_count": 74,
   "metadata": {},
   "outputs": [],
   "source": [
    "# multiple inheritance\n",
    "\n",
    "class veg:\n",
    "    def __init__(self):\n",
    "        self.own1_name=\"ankush\"\n",
    "        self.own2_name=\"ansh\"\n",
    "        self.own3_name=\"mohit\"\n",
    "    def veg_name(self):\n",
    "        self.own1_vegname1=\"tamato\"\n",
    "        self.own2_vegname2=\"patatoo\"\n",
    "        self.own3_vegname3=\"bringle\"\n",
    "class work(veg):                                       # multiple inheritance\n",
    "    def details(self):\n",
    "        print(f\"your owner name is :\",self.own1_name)\n",
    "        print(f\"your owner name is :\",self.own2_name)\n",
    "        print(f\"your owner name is :\",self.own3_name)\n",
    "class timing(work):                                       # mulitlevel inheritance\n",
    "    def purchase(self):\n",
    "        print(f\"your  vegitbale name is :\",self.own1_vegname1)\n",
    "        print(f\"your  vegtitable name is :\",self.own2_vegname2)\n",
    "        print(f\"your  vegitable name is :\",self.own3_vegname3)"
   ]
  },
  {
   "cell_type": "code",
   "execution_count": 75,
   "metadata": {},
   "outputs": [],
   "source": [
    "obj=timing()\n",
    "obj.veg_name()\n"
   ]
  },
  {
   "cell_type": "code",
   "execution_count": 76,
   "metadata": {},
   "outputs": [
    {
     "data": {
      "text/plain": [
       "'ankush'"
      ]
     },
     "execution_count": 76,
     "metadata": {},
     "output_type": "execute_result"
    }
   ],
   "source": [
    "obj.own1_name"
   ]
  },
  {
   "cell_type": "code",
   "execution_count": 77,
   "metadata": {},
   "outputs": [
    {
     "data": {
      "text/plain": [
       "'tamato'"
      ]
     },
     "execution_count": 77,
     "metadata": {},
     "output_type": "execute_result"
    }
   ],
   "source": [
    "obj.own1_vegname1"
   ]
  },
  {
   "cell_type": "code",
   "execution_count": 78,
   "metadata": {},
   "outputs": [
    {
     "name": "stdout",
     "output_type": "stream",
     "text": [
      "your  vegitbale name is : tamato\n",
      "your  vegtitable name is : patatoo\n",
      "your  vegitable name is : bringle\n"
     ]
    }
   ],
   "source": [
    "obj.purchase()"
   ]
  },
  {
   "cell_type": "code",
   "execution_count": 79,
   "metadata": {},
   "outputs": [
    {
     "name": "stdout",
     "output_type": "stream",
     "text": [
      "your owner name is : ankush\n",
      "your owner name is : ansh\n",
      "your owner name is : mohit\n"
     ]
    }
   ],
   "source": [
    "obj.details()"
   ]
  },
  {
   "cell_type": "code",
   "execution_count": null,
   "metadata": {},
   "outputs": [],
   "source": []
  }
 ],
 "metadata": {
  "kernelspec": {
   "display_name": "Python 3",
   "language": "python",
   "name": "python3"
  },
  "language_info": {
   "codemirror_mode": {
    "name": "ipython",
    "version": 3
   },
   "file_extension": ".py",
   "mimetype": "text/x-python",
   "name": "python",
   "nbconvert_exporter": "python",
   "pygments_lexer": "ipython3",
   "version": "3.11.2"
  },
  "orig_nbformat": 4
 },
 "nbformat": 4,
 "nbformat_minor": 2
}
